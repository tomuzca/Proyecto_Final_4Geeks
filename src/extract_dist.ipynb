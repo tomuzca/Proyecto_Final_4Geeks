{
 "cells": [
  {
   "cell_type": "code",
   "execution_count": 2,
   "metadata": {},
   "outputs": [
    {
     "ename": "KeyboardInterrupt",
     "evalue": "",
     "output_type": "error",
     "traceback": [
      "\u001b[1;31m---------------------------------------------------------------------------\u001b[0m",
      "\u001b[1;31mKeyboardInterrupt\u001b[0m                         Traceback (most recent call last)",
      "\u001b[1;32mc:\\Users\\ivesc\\OneDrive\\Documentos\\GitHub\\flight_prices_prediction\\src\\extract_dist.ipynb Cell 1\u001b[0m line \u001b[0;36m5\n\u001b[0;32m     <a href='vscode-notebook-cell:/c%3A/Users/ivesc/OneDrive/Documentos/GitHub/flight_prices_prediction/src/extract_dist.ipynb#W0sZmlsZQ%3D%3D?line=51'>52</a>\u001b[0m                millas\u001b[39m.\u001b[39mappend(b[\u001b[39m4\u001b[39m]\u001b[39m.\u001b[39mget_text())\n\u001b[0;32m     <a href='vscode-notebook-cell:/c%3A/Users/ivesc/OneDrive/Documentos/GitHub/flight_prices_prediction/src/extract_dist.ipynb#W0sZmlsZQ%3D%3D?line=52'>53</a>\u001b[0m     \u001b[39mfinally\u001b[39;00m:\n\u001b[1;32m---> <a href='vscode-notebook-cell:/c%3A/Users/ivesc/OneDrive/Documentos/GitHub/flight_prices_prediction/src/extract_dist.ipynb#W0sZmlsZQ%3D%3D?line=53'>54</a>\u001b[0m         calculardenuevo \u001b[39m=\u001b[39m WebDriverWait(driver, \u001b[39m15\u001b[39;49m)\u001b[39m.\u001b[39;49muntil(EC\u001b[39m.\u001b[39;49melement_to_be_clickable((By\u001b[39m.\u001b[39;49mCSS_SELECTOR, \u001b[39m'\u001b[39;49m\u001b[39ma[href=\u001b[39;49m\u001b[39m\"\u001b[39;49m\u001b[39mdistancias.html\u001b[39;49m\u001b[39m\"\u001b[39;49m\u001b[39m]\u001b[39;49m\u001b[39m'\u001b[39;49m)))\u001b[39m.\u001b[39mclick()\n\u001b[0;32m     <a href='vscode-notebook-cell:/c%3A/Users/ivesc/OneDrive/Documentos/GitHub/flight_prices_prediction/src/extract_dist.ipynb#W0sZmlsZQ%3D%3D?line=55'>56</a>\u001b[0m driver\u001b[39m.\u001b[39mclose()       \n",
      "File \u001b[1;32mc:\\Users\\ivesc\\anaconda3-1\\envs\\airline\\Lib\\site-packages\\selenium\\webdriver\\support\\wait.py:98\u001b[0m, in \u001b[0;36mWebDriverWait.until\u001b[1;34m(self, method, message)\u001b[0m\n\u001b[0;32m     96\u001b[0m     screen \u001b[39m=\u001b[39m \u001b[39mgetattr\u001b[39m(exc, \u001b[39m\"\u001b[39m\u001b[39mscreen\u001b[39m\u001b[39m\"\u001b[39m, \u001b[39mNone\u001b[39;00m)\n\u001b[0;32m     97\u001b[0m     stacktrace \u001b[39m=\u001b[39m \u001b[39mgetattr\u001b[39m(exc, \u001b[39m\"\u001b[39m\u001b[39mstacktrace\u001b[39m\u001b[39m\"\u001b[39m, \u001b[39mNone\u001b[39;00m)\n\u001b[1;32m---> 98\u001b[0m time\u001b[39m.\u001b[39msleep(\u001b[39mself\u001b[39m\u001b[39m.\u001b[39m_poll)\n\u001b[0;32m     99\u001b[0m \u001b[39mif\u001b[39;00m time\u001b[39m.\u001b[39mmonotonic() \u001b[39m>\u001b[39m end_time:\n\u001b[0;32m    100\u001b[0m     \u001b[39mbreak\u001b[39;00m\n",
      "\u001b[1;31mKeyboardInterrupt\u001b[0m: "
     ]
    }
   ],
   "source": [
    "from selenium import webdriver\n",
    "from selenium.webdriver.common.by import By\n",
    "from selenium.webdriver.chrome.service import Service\n",
    "from time import sleep\n",
    "from selenium.webdriver.chrome.options import Options\n",
    "from selenium.webdriver.support.ui import WebDriverWait \n",
    "from selenium.webdriver.support import expected_conditions as EC\n",
    "from webdriver_manager.chrome import ChromeDriverManager\n",
    "from bs4 import BeautifulSoup\n",
    "from selenium.common.exceptions import TimeoutException\n",
    "import re\n",
    "import pandas as pd\n",
    "import numpy as np\n",
    "import pickle\n",
    "\n",
    "# Set Chrome options and the user-agent\n",
    "opts = Options()\n",
    "opts.add_argument(\"user-agent=Mozilla/5.0 (Macintosh; Intel Mac OS X 10_15_7) AppleWebKit/537.36 (KHTML, like Gecko) Chrome/113.0.0.0 Safari/537.36\")\n",
    "\n",
    "# Initialize the ChromeDriver\n",
    "driver = webdriver.Chrome(service=Service(ChromeDriverManager().install()), options=opts)\n",
    "\n",
    "\n",
    "url = \"https://www.dices.net/movil/aeropuertos/distancias.html\"\n",
    "# Open the Kayak website\n",
    "driver.get(url)\n",
    "\n",
    "with open('destination_list.pkl','rb')as f:\n",
    "    destination_list = pickle.load(f)\n",
    "\n",
    "for destination in destination_list:\n",
    "    try:\n",
    "        origen = WebDriverWait(driver, 10).until(EC.element_to_be_clickable((By.CSS_SELECTOR, 'input[name=\"origen\"]')))\n",
    "        destino = WebDriverWait(driver, 10).until(EC.element_to_be_clickable((By.CSS_SELECTOR, 'input[name=\"destino\"]')))\n",
    "\n",
    "        origen.clear()\n",
    "        destino.clear()\n",
    "\n",
    "        origen.send_keys('SCL')\n",
    "        destino.send_keys(destination)\n",
    "\n",
    "        calcular = WebDriverWait(driver, 10).until(EC.element_to_be_clickable((By.CSS_SELECTOR, 'input[type=\"submit\"]'))).click()\n",
    "\n",
    "        soup = BeautifulSoup(driver.page_source, 'html.parser')\n",
    "\n",
    "        millas = []\n",
    "\n",
    "        elements_td = soup.find_all('td', class_=\"fondoazul4\")\n",
    "        for td in elements_td:\n",
    "            b = td.find_all('b')\n",
    "            if len(b) > 4:\n",
    "               millas.append(b[4].get_text())\n",
    "    finally:\n",
    "        calculardenuevo = WebDriverWait(driver, 15).until(EC.element_to_be_clickable((By.CSS_SELECTOR, 'a[href=\"distancias.html\"]'))).click()\n",
    "\n",
    "driver.close()       \n",
    "\n",
    "\n"
   ]
  },
  {
   "cell_type": "code",
   "execution_count": 3,
   "metadata": {},
   "outputs": [
    {
     "data": {
      "text/plain": [
       "[]"
      ]
     },
     "execution_count": 3,
     "metadata": {},
     "output_type": "execute_result"
    }
   ],
   "source": []
  },
  {
   "cell_type": "code",
   "execution_count": null,
   "metadata": {},
   "outputs": [],
   "source": []
  }
 ],
 "metadata": {
  "kernelspec": {
   "display_name": "airline",
   "language": "python",
   "name": "python3"
  },
  "language_info": {
   "codemirror_mode": {
    "name": "ipython",
    "version": 3
   },
   "file_extension": ".py",
   "mimetype": "text/x-python",
   "name": "python",
   "nbconvert_exporter": "python",
   "pygments_lexer": "ipython3",
   "version": "3.11.6"
  }
 },
 "nbformat": 4,
 "nbformat_minor": 2
}
