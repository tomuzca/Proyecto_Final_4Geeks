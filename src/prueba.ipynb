{
 "cells": [
  {
   "cell_type": "code",
   "execution_count": 2,
   "metadata": {},
   "outputs": [
    {
     "name": "stdout",
     "output_type": "stream",
     "text": [
      "Button disappeared or not clickable. Stopping.\n",
      "Button disappeared or not clickable. Stopping.\n",
      "Button disappeared or not clickable. Stopping.\n",
      "Button disappeared or not clickable. Stopping.\n",
      "Button disappeared or not clickable. Stopping.\n",
      "Button disappeared or not clickable. Stopping.\n",
      "Button disappeared or not clickable. Stopping.\n",
      "Button disappeared or not clickable. Stopping.\n",
      "Button disappeared or not clickable. Stopping.\n",
      "Button disappeared or not clickable. Stopping.\n",
      "Button disappeared or not clickable. Stopping.\n",
      "Button disappeared or not clickable. Stopping.\n",
      "Button disappeared or not clickable. Stopping.\n",
      "Button disappeared or not clickable. Stopping.\n"
     ]
    }
   ],
   "source": [
    "from selenium import webdriver\n",
    "from selenium.webdriver.common.by import By\n",
    "from selenium.webdriver.chrome.service import Service\n",
    "from time import sleep\n",
    "from selenium.webdriver.chrome.options import Options\n",
    "from selenium.webdriver.support.ui import WebDriverWait \n",
    "from selenium.webdriver.support import expected_conditions as EC\n",
    "from webdriver_manager.chrome import ChromeDriverManager\n",
    "from bs4 import BeautifulSoup\n",
    "from selenium.common.exceptions import TimeoutException\n",
    "import re\n",
    "import pandas as pd\n",
    "import numpy as np\n",
    "\n",
    "def extract_flight_data(origins, destinations, startdates):\n",
    "    flight_data = {\n",
    "        \"Origin\": [],\n",
    "        \"Destination\": [],\n",
    "        \"StartDate\": [],\n",
    "        \"DepartureTime\": [],\n",
    "        \"ArrivalTime\": [],\n",
    "        \"Price\": [],\n",
    "        \"Airline\": [],\n",
    "        \"Stops\": [],\n",
    "        \"LayoverAirports\": [],\n",
    "        \"TravelTime\": [],\n",
    "        \"ClassType\": []\n",
    "    }\n",
    "\n",
    "    # Set Chrome options and the user-agent\n",
    "    opts = Options()\n",
    "    opts.add_argument(\"user-agent=Mozilla/5.0 (Macintosh; Intel Mac OS X 10_15_7) AppleWebKit/537.36 (KHTML, like Gecko) Chrome/113.0.0.0 Safari/537.36\")\n",
    "\n",
    "    # Initialize the ChromeDriver\n",
    "    driver = webdriver.Chrome(service=Service(ChromeDriverManager().install()), options=opts)\n",
    "\n",
    "    for origin in origins:\n",
    "        for destination in destinations:\n",
    "            for startdate in startdates:\n",
    "                url = f\"https://www.kayak.cl/flights/{origin}-{destination}/{startdate}?sort=bestflight_a\"\n",
    "                # Open the Kayak website\n",
    "                driver.get(url)\n",
    "             \n",
    "\n",
    "                # Presionar multiples veces 'ver mas resultaods' para obtener la mayor cantidad de vuelos posibles por búsqueda\n",
    "                while True:\n",
    "                    try:\n",
    "                        boton = WebDriverWait(driver, 30).until(EC.element_to_be_clickable((By.XPATH, '//div[@role=\"button\" and @class=\"ULvh-button show-more-button\"]')))\n",
    "                        boton.click()\n",
    "                    except:\n",
    "                        print(\"Button disappeared or not clickable. Stopping.\")\n",
    "                        break\n",
    "\n",
    "                soup = BeautifulSoup(driver.page_source, 'html.parser')\n",
    "\n",
    "                # Extraer Horarios de salida y llegada\n",
    "                deptime = []\n",
    "                arrtime = []\n",
    "                div_elements_times = soup.find_all('div', class_='vmXl vmXl-mod-variant-large')\n",
    "\n",
    "                for div in div_elements_times:\n",
    "                    spans = div.find_all('span')\n",
    "                    if len(spans) == 3:\n",
    "                        deptime.append(spans[0].get_text())\n",
    "                        arrtime.append(spans[2].get_text())\n",
    "\n",
    "                # Extraer todos los precios\n",
    "                prices_int = []\n",
    "                div_elements_price = soup.find_all('div', class_='f8F1-price-text')\n",
    "\n",
    "                for div in div_elements_price:\n",
    "                    price_text = div.get_text()\n",
    "                    price_text = price_text.replace('$', '').replace('.', '')\n",
    "                    prices_int.append(int(price_text))\n",
    "\n",
    "                # Extraer lineas aereas\n",
    "                lineas = []\n",
    "                div_elements_lineas = soup.find_all('div', class_='J0g6-operator-text')\n",
    "\n",
    "                for div in div_elements_lineas:\n",
    "                    lineas_text = div.get_text()\n",
    "                    lineas.append(lineas_text)\n",
    "\n",
    "                # Extraer lineas aereas\n",
    "                escalas = []\n",
    "                span_elements_escalas = soup.find_all('span', class_='JWEO-stops-text')\n",
    "\n",
    "                for div in span_elements_escalas:\n",
    "                    escalas_text = div.get_text()\n",
    "                    escalas.append(escalas_text)\n",
    "\n",
    "                # Extraer aeropuertos de escalas\n",
    "                cleaned_airport_codes = []\n",
    "                div_elements_jweo = soup.find_all('div', class_='JWEO')\n",
    "\n",
    "                for div_jweo in div_elements_jweo:\n",
    "                    div_airport = div_jweo.find('div', class_='c_cgF c_cgF-mod-variant-full-airport')\n",
    "                    span_elements = div_airport.find_all('span')\n",
    "                    airport_codes = [span.get_text() for span in span_elements]\n",
    "                    cleaned_airport_code = ', '.join(set(filter(None, airport_codes)))\n",
    "                    cleaned_airport_codes.append(cleaned_airport_code)\n",
    "\n",
    "                cleaned_airport_codes = [', '.join(set(code.split(', '))) for code in cleaned_airport_codes]\n",
    "\n",
    "                # Extraer horas del viaje\n",
    "                horas_viaje = []\n",
    "                div_elements_horas = soup.find_all('div', class_='xdW8 xdW8-mod-full-airport')\n",
    "\n",
    "                for div in div_elements_horas:\n",
    "                    horas_text = div.find('div', class_='vmXl vmXl-mod-variant-default').get_text()\n",
    "                    horas_viaje.append(horas_text)\n",
    "\n",
    "                # Extraer tipo de clase\n",
    "                tipo_clase = []\n",
    "                div_M_JD = soup.find_all('div', class_='M_JD')\n",
    "\n",
    "                for div in div_M_JD:\n",
    "                    div_aC3z_links = div.find('div', class_='aC3z-links')\n",
    "                    div_aC3z_option = div_aC3z_links.find('div', class_='aC3z-option')\n",
    "                    div_aC3z_name = div_aC3z_option.find('div', class_='aC3z-name').get_text()\n",
    "                    tipo_clase.append(div_aC3z_name)\n",
    "\n",
    "                # Agregar los datos a la estructura de datos\n",
    "                for i in range(len(deptime)):\n",
    "                    flight_data[\"Origin\"].append(origin)\n",
    "                    flight_data[\"Destination\"].append(destination)\n",
    "                    flight_data[\"StartDate\"].append(startdate)\n",
    "                    flight_data[\"DepartureTime\"].append(deptime[i])\n",
    "                    flight_data[\"ArrivalTime\"].append(arrtime[i])\n",
    "                    flight_data[\"Price\"].append(prices_int[i])\n",
    "                    flight_data[\"Airline\"].append(lineas[i])\n",
    "                    flight_data[\"Stops\"].append(escalas[i])\n",
    "                    flight_data[\"LayoverAirports\"].append(cleaned_airport_codes[i])\n",
    "                    flight_data[\"TravelTime\"].append(horas_viaje[i])\n",
    "                    flight_data[\"ClassType\"].append(tipo_clase[i])\n",
    "\n",
    "    # Cerrar el navegador al finalizar\n",
    "    driver.quit()\n",
    "\n",
    "    return flight_data\n",
    "\n",
    "# Definir las listas de origen, destino y fechas\n",
    "origins = ['SCL']\n",
    "destinations = ['PAR','CCS']\n",
    "startdates = [\"2023-12-11\", \"2023-12-12\", \"2023-12-13\",\"2023-12-20\",\"2023-12-22\",\"2023-12-24\",\"2023-12-25\"]\n",
    "\n",
    "# Llamar a la función para extraer datos\n",
    "flight_data = extract_flight_data(origins, destinations, startdates)\n",
    "\n",
    "# Convertir los datos a un DataFrame de Pandas\n",
    "df = pd.DataFrame(flight_data)"
   ]
  },
  {
   "cell_type": "markdown",
   "metadata": {},
   "source": [
    "### Agregar a Base de Datos"
   ]
  },
  {
   "cell_type": "code",
   "execution_count": 3,
   "metadata": {},
   "outputs": [
    {
     "name": "stdout",
     "output_type": "stream",
     "text": [
      "<class 'pandas.core.frame.DataFrame'>\n",
      "RangeIndex: 348 entries, 0 to 347\n",
      "Data columns (total 11 columns):\n",
      " #   Column           Non-Null Count  Dtype \n",
      "---  ------           --------------  ----- \n",
      " 0   Origin           348 non-null    object\n",
      " 1   Destination      348 non-null    object\n",
      " 2   StartDate        348 non-null    object\n",
      " 3   DepartureTime    348 non-null    object\n",
      " 4   ArrivalTime      348 non-null    object\n",
      " 5   Price            348 non-null    int64 \n",
      " 6   Airline          348 non-null    object\n",
      " 7   Stops            348 non-null    object\n",
      " 8   LayoverAirports  348 non-null    object\n",
      " 9   TravelTime       348 non-null    object\n",
      " 10  ClassType        348 non-null    object\n",
      "dtypes: int64(1), object(10)\n",
      "memory usage: 30.0+ KB\n"
     ]
    }
   ],
   "source": [
    "df.info()"
   ]
  },
  {
   "cell_type": "code",
   "execution_count": 4,
   "metadata": {},
   "outputs": [],
   "source": [
    "import sqlite3\n",
    "\n",
    "# Conectar a la base de datos SQLite\n",
    "conn = sqlite3.connect('master.db')\n",
    "\n",
    "# Guardar el DataFrame en una tabla llamada 'personas'\n",
    "df.to_sql('vuelos', conn, if_exists='append', index=False)\n",
    "\n",
    "# Cerrar la conexión\n",
    "conn.close()\n"
   ]
  },
  {
   "cell_type": "markdown",
   "metadata": {},
   "source": [
    "#### Contador de filas tabla Database"
   ]
  },
  {
   "cell_type": "code",
   "execution_count": 2,
   "metadata": {},
   "outputs": [
    {
     "name": "stdout",
     "output_type": "stream",
     "text": [
      "La tabla 'vuelos' tiene 1929 filas.\n"
     ]
    }
   ],
   "source": [
    "import sqlite3\n",
    "\n",
    "# Conectar a la base de datos SQLite\n",
    "conn = sqlite3.connect('master.db')\n",
    "nombre_de_la_tabla = 'vuelos'  # Reemplaza 'nombre_de_la_tabla' con el nombre de la tabla que deseas revisar\n",
    "cursor = conn.cursor()\n",
    "cursor.execute(f\"SELECT COUNT(*) FROM {'vuelos'}\")\n",
    "cantidad_de_filas = cursor.fetchone()[0]\n",
    "print(f\"La tabla '{nombre_de_la_tabla}' tiene {cantidad_de_filas} filas.\")\n",
    "conn.close()\n"
   ]
  },
  {
   "cell_type": "code",
   "execution_count": 4,
   "metadata": {},
   "outputs": [
    {
     "name": "stdout",
     "output_type": "stream",
     "text": [
      "hola\n"
     ]
    }
   ],
   "source": [
    "print('hola')"
   ]
  }
 ],
 "metadata": {
  "kernelspec": {
   "display_name": "airline",
   "language": "python",
   "name": "python3"
  },
  "language_info": {
   "codemirror_mode": {
    "name": "ipython",
    "version": 3
   },
   "file_extension": ".py",
   "mimetype": "text/x-python",
   "name": "python",
   "nbconvert_exporter": "python",
   "pygments_lexer": "ipython3",
   "version": "3.11.4"
  }
 },
 "nbformat": 4,
 "nbformat_minor": 2
}
