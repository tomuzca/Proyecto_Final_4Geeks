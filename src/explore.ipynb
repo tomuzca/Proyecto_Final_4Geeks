{
 "cells": [
  {
   "cell_type": "code",
   "execution_count": 31,
   "metadata": {},
   "outputs": [
    {
     "name": "stdout",
     "output_type": "stream",
     "text": [
      "Button disappeared or not clickable. Stopping.\n"
     ]
    }
   ],
   "source": [
    "from selenium import webdriver\n",
    "from selenium.webdriver.common.by import By\n",
    "from selenium.webdriver.chrome.service import Service\n",
    "from time import sleep\n",
    "from selenium.webdriver.chrome.options import Options\n",
    "from selenium.webdriver.support.ui import WebDriverWait \n",
    "from selenium.webdriver.support import expected_conditions as EC\n",
    "from webdriver_manager.chrome import ChromeDriverManager\n",
    "from bs4 import BeautifulSoup\n",
    "from selenium.common.exceptions import TimeoutException\n",
    "import re\n",
    "import pandas as pd\n",
    "import numpy as np\n",
    "\n",
    "# Set Chrome options and the user-agent\n",
    "opts = Options()\n",
    "opts.add_argument(\"user-agent=Mozilla/5.0 (Macintosh; Intel Mac OS X 10_15_7) AppleWebKit/537.36 (KHTML, like Gecko) Chrome/113.0.0.0 Safari/537.36\")\n",
    "\n",
    "# Initialize the ChromeDriver\n",
    "driver = webdriver.Chrome(service=Service(ChromeDriverManager().install()), options=opts)\n",
    "\n",
    "\n",
    "origin = \"SCL\"\n",
    "destination = \"MXP\"\n",
    "startdate = \"2023-11-07\"\n",
    "enddate = \"2023-11-14\"\n",
    "url = f\"https://www.kayak.cl/flights/{origin}-{destination}/{startdate}/{enddate}?sort=bestflight_a\"\n",
    "\n",
    "\n",
    "# Open the Kayak website\n",
    "driver.get(url)\n",
    "# sleep(13)\n",
    "\n",
    "while True:\n",
    "    try:\n",
    "        boton = WebDriverWait(driver, 10).until(EC.element_to_be_clickable((By.XPATH, '//div[@role=\"button\" and @class=\"ULvh-button show-more-button\"]')))\n",
    "        boton.click()\n",
    "    except:\n",
    "        # Handle the situation when the button disappears or is no longer clickable\n",
    "        print(\"Button disappeared or not clickable. Stopping.\")\n",
    "        break\n",
    "\n",
    "\n",
    "# sleep(5) \n",
    "# soup=BeautifulSoup(driver.page_source, 'html.parser')\n",
    "\n",
    "# if soup.find_all('p')[0].getText() == \"Please confirm that you are a real KAYAK user.\":\n",
    "#     print(\"Kayak thinks I'm a bot, which I am ... so let's wait a bit and try again\")\n",
    "#     driver.close()\n",
    "#     sleep(20)\n",
    "#     return \"failure\"\n",
    "\n",
    "\n",
    "\n",
    "\n",
    "soup=BeautifulSoup(driver.page_source, 'html.parser')\n",
    "deptime = []\n",
    "arrtime = []\n",
    "\n",
    "# Find all div elements with class \"vmXl vmXl-mod-variant-large\"\n",
    "div_elements_times = soup.find_all('div', class_='vmXl vmXl-mod-variant-large')\n",
    "\n",
    "# Iterate through the div elements\n",
    "for div in div_elements_times:\n",
    "    # Find the first and second spans within each div\n",
    "    spans = div.find_all('span')\n",
    "    \n",
    "    if len(spans) == 3:\n",
    "        # Extract the text from the first span and append it to deptime\n",
    "        deptime.append(spans[0].get_text())\n",
    "        \n",
    "        # Extract the text from the second span and append it to arrtime\n",
    "        arrtime.append(spans[2].get_text())\n",
    "\n",
    "\n",
    "\n",
    "\n",
    "div_elements_price = soup.find_all('div', class_='f8F1-price-text')\n",
    "\n",
    "prices_int = []\n",
    "\n",
    "for div in div_elements_price:\n",
    "    # Extract the text from the div\n",
    "    price_text = div.get_text()\n",
    "    \n",
    "    # Remove any non-numeric characters (e.g., dollar sign and comma)\n",
    "    price_text = price_text.replace('$', '').replace('.', '')\n",
    "      \n",
    "    # Append the integer to the list\n",
    "    prices_int.append(int(price_text))\n"
   ]
  },
  {
   "cell_type": "code",
   "execution_count": 35,
   "metadata": {},
   "outputs": [
    {
     "name": "stdout",
     "output_type": "stream",
     "text": [
      "228\n",
      "228\n",
      "114\n"
     ]
    }
   ],
   "source": [
    "print(len(deptime))\n",
    "print(len(arrtime))\n",
    "print(len(prices_int))"
   ]
  }
 ],
 "metadata": {
  "kernelspec": {
   "display_name": "estudios",
   "language": "python",
   "name": "python3"
  },
  "language_info": {
   "codemirror_mode": {
    "name": "ipython",
    "version": 3
   },
   "file_extension": ".py",
   "mimetype": "text/x-python",
   "name": "python",
   "nbconvert_exporter": "python",
   "pygments_lexer": "ipython3",
   "version": "3.10.12"
  }
 },
 "nbformat": 4,
 "nbformat_minor": 2
}
